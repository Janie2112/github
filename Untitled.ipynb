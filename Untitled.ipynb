{
 "cells": [
  {
   "cell_type": "markdown",
   "metadata": {},
   "source": [
    "Load Data"
   ]
  },
  {
   "cell_type": "code",
   "execution_count": 40,
   "metadata": {},
   "outputs": [],
   "source": [
    "import pandas as pd\n",
    "df=pd.read_html('https://en.wikipedia.org/wiki/List_of_postal_codes_of_Canada:_M',skiprows = [0])[0]"
   ]
  },
  {
   "cell_type": "code",
   "execution_count": 41,
   "metadata": {},
   "outputs": [],
   "source": [
    "df.columns = ['PostalCode', 'Borough', 'Neighborhood']"
   ]
  },
  {
   "cell_type": "code",
   "execution_count": 42,
   "metadata": {},
   "outputs": [],
   "source": [
    "df.drop(df.loc[df['Borough']=='Not assigned'].index, inplace=True)"
   ]
  },
  {
   "cell_type": "markdown",
   "metadata": {},
   "source": [
    "Check the duplicated Postalcode"
   ]
  },
  {
   "cell_type": "code",
   "execution_count": 43,
   "metadata": {},
   "outputs": [
    {
     "data": {
      "text/plain": [
       "M9V    8\n",
       "M8Y    8\n",
       "M5V    7\n",
       "M9B    5\n",
       "M4V    5\n",
       "      ..\n",
       "M3M    1\n",
       "M4R    1\n",
       "M7R    1\n",
       "M3N    1\n",
       "M1S    1\n",
       "Name: PostalCode, Length: 103, dtype: int64"
      ]
     },
     "execution_count": 43,
     "metadata": {},
     "output_type": "execute_result"
    }
   ],
   "source": [
    "df['PostalCode'].value_counts()"
   ]
  },
  {
   "cell_type": "markdown",
   "metadata": {},
   "source": [
    "Remove the dupplicated postalcode"
   ]
  },
  {
   "cell_type": "code",
   "execution_count": 44,
   "metadata": {},
   "outputs": [
    {
     "data": {
      "text/html": [
       "<div>\n",
       "<style scoped>\n",
       "    .dataframe tbody tr th:only-of-type {\n",
       "        vertical-align: middle;\n",
       "    }\n",
       "\n",
       "    .dataframe tbody tr th {\n",
       "        vertical-align: top;\n",
       "    }\n",
       "\n",
       "    .dataframe thead th {\n",
       "        text-align: right;\n",
       "    }\n",
       "</style>\n",
       "<table border=\"1\" class=\"dataframe\">\n",
       "  <thead>\n",
       "    <tr style=\"text-align: right;\">\n",
       "      <th></th>\n",
       "      <th>PostalCode</th>\n",
       "      <th>Borough</th>\n",
       "      <th>Neighborhood</th>\n",
       "    </tr>\n",
       "  </thead>\n",
       "  <tbody>\n",
       "    <tr>\n",
       "      <td>9</td>\n",
       "      <td>M1B</td>\n",
       "      <td>Scarborough</td>\n",
       "      <td>Rouge</td>\n",
       "    </tr>\n",
       "    <tr>\n",
       "      <td>10</td>\n",
       "      <td>M1B</td>\n",
       "      <td>Scarborough</td>\n",
       "      <td>Malvern</td>\n",
       "    </tr>\n",
       "    <tr>\n",
       "      <td>27</td>\n",
       "      <td>M1C</td>\n",
       "      <td>Scarborough</td>\n",
       "      <td>Port Union</td>\n",
       "    </tr>\n",
       "    <tr>\n",
       "      <td>26</td>\n",
       "      <td>M1C</td>\n",
       "      <td>Scarborough</td>\n",
       "      <td>Rouge Hill</td>\n",
       "    </tr>\n",
       "    <tr>\n",
       "      <td>25</td>\n",
       "      <td>M1C</td>\n",
       "      <td>Scarborough</td>\n",
       "      <td>Highland Creek</td>\n",
       "    </tr>\n",
       "  </tbody>\n",
       "</table>\n",
       "</div>"
      ],
      "text/plain": [
       "   PostalCode      Borough    Neighborhood\n",
       "9         M1B  Scarborough           Rouge\n",
       "10        M1B  Scarborough         Malvern\n",
       "27        M1C  Scarborough      Port Union\n",
       "26        M1C  Scarborough      Rouge Hill\n",
       "25        M1C  Scarborough  Highland Creek"
      ]
     },
     "execution_count": 44,
     "metadata": {},
     "output_type": "execute_result"
    }
   ],
   "source": [
    "df.sort_values(\"PostalCode\", inplace = True)\n",
    "df.head()"
   ]
  },
  {
   "cell_type": "code",
   "execution_count": 45,
   "metadata": {},
   "outputs": [],
   "source": [
    "df.drop_duplicates(\"PostalCode\", inplace = True) "
   ]
  },
  {
   "cell_type": "markdown",
   "metadata": {},
   "source": [
    "Replace Not assigned Neighborhood by Borough"
   ]
  },
  {
   "cell_type": "code",
   "execution_count": 46,
   "metadata": {},
   "outputs": [
    {
     "data": {
      "text/html": [
       "<div>\n",
       "<style scoped>\n",
       "    .dataframe tbody tr th:only-of-type {\n",
       "        vertical-align: middle;\n",
       "    }\n",
       "\n",
       "    .dataframe tbody tr th {\n",
       "        vertical-align: top;\n",
       "    }\n",
       "\n",
       "    .dataframe thead th {\n",
       "        text-align: right;\n",
       "    }\n",
       "</style>\n",
       "<table border=\"1\" class=\"dataframe\">\n",
       "  <thead>\n",
       "    <tr style=\"text-align: right;\">\n",
       "      <th></th>\n",
       "      <th>PostalCode</th>\n",
       "      <th>Borough</th>\n",
       "      <th>Neighborhood</th>\n",
       "    </tr>\n",
       "  </thead>\n",
       "  <tbody>\n",
       "    <tr>\n",
       "      <td>8</td>\n",
       "      <td>M9A</td>\n",
       "      <td>Queen's Park</td>\n",
       "      <td>Not assigned</td>\n",
       "    </tr>\n",
       "  </tbody>\n",
       "</table>\n",
       "</div>"
      ],
      "text/plain": [
       "  PostalCode       Borough  Neighborhood\n",
       "8        M9A  Queen's Park  Not assigned"
      ]
     },
     "execution_count": 46,
     "metadata": {},
     "output_type": "execute_result"
    }
   ],
   "source": [
    "df[df['Neighborhood'] == 'Not assigned']"
   ]
  },
  {
   "cell_type": "code",
   "execution_count": 47,
   "metadata": {},
   "outputs": [],
   "source": [
    "mask = df['Neighborhood'] == \"Not assigned\"\n",
    "df.loc[mask, 'Neighborhood'] = df.loc[mask, 'Borough']"
   ]
  },
  {
   "cell_type": "code",
   "execution_count": 48,
   "metadata": {},
   "outputs": [
    {
     "data": {
      "text/html": [
       "<div>\n",
       "<style scoped>\n",
       "    .dataframe tbody tr th:only-of-type {\n",
       "        vertical-align: middle;\n",
       "    }\n",
       "\n",
       "    .dataframe tbody tr th {\n",
       "        vertical-align: top;\n",
       "    }\n",
       "\n",
       "    .dataframe thead th {\n",
       "        text-align: right;\n",
       "    }\n",
       "</style>\n",
       "<table border=\"1\" class=\"dataframe\">\n",
       "  <thead>\n",
       "    <tr style=\"text-align: right;\">\n",
       "      <th></th>\n",
       "      <th>PostalCode</th>\n",
       "      <th>Borough</th>\n",
       "      <th>Neighborhood</th>\n",
       "    </tr>\n",
       "  </thead>\n",
       "  <tbody>\n",
       "    <tr>\n",
       "      <td>8</td>\n",
       "      <td>M9A</td>\n",
       "      <td>Queen's Park</td>\n",
       "      <td>Queen's Park</td>\n",
       "    </tr>\n",
       "  </tbody>\n",
       "</table>\n",
       "</div>"
      ],
      "text/plain": [
       "  PostalCode       Borough  Neighborhood\n",
       "8        M9A  Queen's Park  Queen's Park"
      ]
     },
     "execution_count": 48,
     "metadata": {},
     "output_type": "execute_result"
    }
   ],
   "source": [
    "df[df['PostalCode'] == 'M9A']"
   ]
  },
  {
   "cell_type": "code",
   "execution_count": 49,
   "metadata": {},
   "outputs": [
    {
     "data": {
      "text/plain": [
       "(103, 3)"
      ]
     },
     "execution_count": 49,
     "metadata": {},
     "output_type": "execute_result"
    }
   ],
   "source": [
    "df.shape"
   ]
  },
  {
   "cell_type": "markdown",
   "metadata": {},
   "source": [
    "Geolocalization"
   ]
  },
  {
   "cell_type": "code",
   "execution_count": 82,
   "metadata": {},
   "outputs": [],
   "source": [
    "# import the geolocation cordinators \n",
    "coordinates = pd.read_csv('Geospatial_Coordinates.csv')\n",
    "\n",
    "#join with current database \n",
    "\n",
    "df_new = df.set_index('PostalCode').join(coordinates.set_index('Postal Code')).reset_index()\n",
    "\n",
    "\n",
    "#other way\n",
    "#coordinates.rename(index=str, columns={\"Postal Code\": \"Postcode\"}, inplace = True)\n",
    "#neighborhoods = pd.merge(can_df, coordinates, on='Postcode', how='inner')"
   ]
  },
  {
   "cell_type": "code",
   "execution_count": 83,
   "metadata": {},
   "outputs": [
    {
     "data": {
      "text/html": [
       "<div>\n",
       "<style scoped>\n",
       "    .dataframe tbody tr th:only-of-type {\n",
       "        vertical-align: middle;\n",
       "    }\n",
       "\n",
       "    .dataframe tbody tr th {\n",
       "        vertical-align: top;\n",
       "    }\n",
       "\n",
       "    .dataframe thead th {\n",
       "        text-align: right;\n",
       "    }\n",
       "</style>\n",
       "<table border=\"1\" class=\"dataframe\">\n",
       "  <thead>\n",
       "    <tr style=\"text-align: right;\">\n",
       "      <th></th>\n",
       "      <th>PostalCode</th>\n",
       "      <th>Borough</th>\n",
       "      <th>Neighborhood</th>\n",
       "      <th>Latitude</th>\n",
       "      <th>Longitude</th>\n",
       "    </tr>\n",
       "  </thead>\n",
       "  <tbody>\n",
       "    <tr>\n",
       "      <td>0</td>\n",
       "      <td>M1B</td>\n",
       "      <td>Scarborough</td>\n",
       "      <td>Rouge</td>\n",
       "      <td>43.806686</td>\n",
       "      <td>-79.194353</td>\n",
       "    </tr>\n",
       "    <tr>\n",
       "      <td>1</td>\n",
       "      <td>M1C</td>\n",
       "      <td>Scarborough</td>\n",
       "      <td>Port Union</td>\n",
       "      <td>43.784535</td>\n",
       "      <td>-79.160497</td>\n",
       "    </tr>\n",
       "    <tr>\n",
       "      <td>2</td>\n",
       "      <td>M1E</td>\n",
       "      <td>Scarborough</td>\n",
       "      <td>Guildwood</td>\n",
       "      <td>43.763573</td>\n",
       "      <td>-79.188711</td>\n",
       "    </tr>\n",
       "    <tr>\n",
       "      <td>3</td>\n",
       "      <td>M1G</td>\n",
       "      <td>Scarborough</td>\n",
       "      <td>Woburn</td>\n",
       "      <td>43.770992</td>\n",
       "      <td>-79.216917</td>\n",
       "    </tr>\n",
       "    <tr>\n",
       "      <td>4</td>\n",
       "      <td>M1H</td>\n",
       "      <td>Scarborough</td>\n",
       "      <td>Cedarbrae</td>\n",
       "      <td>43.773136</td>\n",
       "      <td>-79.239476</td>\n",
       "    </tr>\n",
       "  </tbody>\n",
       "</table>\n",
       "</div>"
      ],
      "text/plain": [
       "  PostalCode      Borough Neighborhood   Latitude  Longitude\n",
       "0        M1B  Scarborough        Rouge  43.806686 -79.194353\n",
       "1        M1C  Scarborough   Port Union  43.784535 -79.160497\n",
       "2        M1E  Scarborough    Guildwood  43.763573 -79.188711\n",
       "3        M1G  Scarborough       Woburn  43.770992 -79.216917\n",
       "4        M1H  Scarborough    Cedarbrae  43.773136 -79.239476"
      ]
     },
     "execution_count": 83,
     "metadata": {},
     "output_type": "execute_result"
    }
   ],
   "source": [
    "df_new.head()"
   ]
  },
  {
   "cell_type": "markdown",
   "metadata": {},
   "source": [
    "Exploration of the neighborhoods\n"
   ]
  },
  {
   "cell_type": "code",
   "execution_count": 84,
   "metadata": {},
   "outputs": [],
   "source": [
    "import numpy as np\n",
    "import requests\n",
    "import matplotlib.cm as cm\n",
    "import matplotlib.colors as colors \n",
    "from sklearn.cluster import KMeans\n",
    "import folium \n",
    "from pandas.io.json import json_normalize"
   ]
  },
  {
   "cell_type": "markdown",
   "metadata": {},
   "source": [
    "We keep only the boroughs containing 'Toronto'"
   ]
  },
  {
   "cell_type": "code",
   "execution_count": 93,
   "metadata": {},
   "outputs": [],
   "source": [
    "toronto = df_new[[x.find('Toronto')>=0 for x in df_new['Borough'].values]].reset_index(drop=True)"
   ]
  },
  {
   "cell_type": "code",
   "execution_count": 94,
   "metadata": {},
   "outputs": [
    {
     "data": {
      "text/plain": [
       "(39, 5)"
      ]
     },
     "execution_count": 94,
     "metadata": {},
     "output_type": "execute_result"
    }
   ],
   "source": [
    "toronto.shape"
   ]
  },
  {
   "cell_type": "markdown",
   "metadata": {},
   "source": [
    "Find the geolocation of Toronto "
   ]
  },
  {
   "cell_type": "code",
   "execution_count": 102,
   "metadata": {},
   "outputs": [
    {
     "name": "stdout",
     "output_type": "stream",
     "text": [
      "The geographical cordinate of Toronto City are 43.653963, -79.387207\n"
     ]
    }
   ],
   "source": [
    "from geopy.geocoders import Nominatim \n",
    "address = 'Toronto City, ON'\n",
    "\n",
    "geolocator = Nominatim(user_agent = 'ny_explorer')\n",
    "location = geolocator.geocode(address)\n",
    "latitude = location.latitude\n",
    "longitude = location.longitude\n",
    "print ('The geographical cordinate of Toronto City are {}, {}'.format(latitude, longitude))"
   ]
  },
  {
   "cell_type": "markdown",
   "metadata": {},
   "source": [
    "We create a map of Toronto and mark the remaining neighborhoods"
   ]
  },
  {
   "cell_type": "code",
   "execution_count": 103,
   "metadata": {},
   "outputs": [
    {
     "data": {
      "text/html": [
       "<div style=\"width:100%;\"><div style=\"position:relative;width:100%;height:0;padding-bottom:60%;\"><iframe src=\"data:text/html;charset=utf-8;base64,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\" style=\"position:absolute;width:100%;height:100%;left:0;top:0;border:none !important;\" allowfullscreen webkitallowfullscreen mozallowfullscreen></iframe></div></div>"
      ],
      "text/plain": [
       "<folium.folium.Map at 0x27f5674cc08>"
      ]
     },
     "execution_count": 103,
     "metadata": {},
     "output_type": "execute_result"
    }
   ],
   "source": [
    "map_Toronto = folium.Map(location=[latitude, longitude], zoom_start=12)\n",
    "\n",
    "# add markers to map\n",
    "for lat, lng, label in zip(toronto['Latitude'], toronto['Longitude'], toronto['Neighborhood']):\n",
    "    label = folium.Popup(label, parse_html=True)\n",
    "    folium.CircleMarker(\n",
    "        [lat, lng],\n",
    "        radius=5,\n",
    "        popup=label,\n",
    "        color='blue',\n",
    "        fill=True,\n",
    "        fill_color='#3186cc',\n",
    "        fill_opacity=0.7,\n",
    "        parse_html=False).add_to(map_Toronto)  \n",
    "    \n",
    "map_Toronto"
   ]
  },
  {
   "cell_type": "markdown",
   "metadata": {},
   "source": [
    "Definde credential Foursquare"
   ]
  },
  {
   "cell_type": "code",
   "execution_count": 104,
   "metadata": {},
   "outputs": [
    {
     "name": "stdout",
     "output_type": "stream",
     "text": [
      "Your credentails:\n",
      "CLIENT_ID: 3I22FVMIBODABLJYTYNYTU3NCFN2C4DPXSS1MFIO42MY4B2A\n",
      "CLIENT_SECRET:RGKOTFDPW0ERARMJEWT20ULIIH3XGIIA3E5V0WVFTD51EB0Q\n"
     ]
    }
   ],
   "source": [
    "CLIENT_ID = '3I22FVMIBODABLJYTYNYTU3NCFN2C4DPXSS1MFIO42MY4B2A' \n",
    "CLIENT_SECRET = 'RGKOTFDPW0ERARMJEWT20ULIIH3XGIIA3E5V0WVFTD51EB0Q'\n",
    "VERSION = '20180605'\n",
    "\n",
    "print('Your credentails:')\n",
    "print('CLIENT_ID: ' + CLIENT_ID)\n",
    "print('CLIENT_SECRET:' + CLIENT_SECRET)"
   ]
  },
  {
   "cell_type": "markdown",
   "metadata": {},
   "source": [
    "Below we get a list of venues located in each neighborhood"
   ]
  },
  {
   "cell_type": "code",
   "execution_count": 105,
   "metadata": {},
   "outputs": [],
   "source": [
    "LIMIT = 300\n",
    "radius = 500 # define radius\n",
    "\n",
    "def getNearbyVenues(names, latitudes, longitudes, radius=500):\n",
    "    \n",
    "    venues_list=[]\n",
    "    for name, lat, lng in zip(names, latitudes, longitudes):\n",
    "        print(name)\n",
    "            \n",
    "        # create the API request URL\n",
    "        url = 'https://api.foursquare.com/v2/venues/explore?&client_id={}&client_secret={}&v={}&ll={},{}&radius={}&limit={}'.format(\n",
    "            CLIENT_ID, \n",
    "            CLIENT_SECRET, \n",
    "            VERSION, \n",
    "            lat, \n",
    "            lng, \n",
    "            radius, \n",
    "            LIMIT)\n",
    "            \n",
    "        # make the GET request\n",
    "        results = requests.get(url).json()[\"response\"]['groups'][0]['items']\n",
    "        \n",
    "        # return only relevant information for each nearby venue\n",
    "        venues_list.append([(\n",
    "            name, \n",
    "            lat, \n",
    "            lng, \n",
    "            v['venue']['name'], \n",
    "            v['venue']['location']['lat'], \n",
    "            v['venue']['location']['lng'],  \n",
    "            v['venue']['categories'][0]['name']) for v in results])\n",
    "\n",
    "    nearby_venues = pd.DataFrame([item for venue_list in venues_list for item in venue_list])\n",
    "    nearby_venues.columns = ['Neighborhood', \n",
    "                  'Neighborhood Latitude', \n",
    "                  'Neighborhood Longitude', \n",
    "                  'Venue', \n",
    "                  'Venue Latitude', \n",
    "                  'Venue Longitude', \n",
    "                  'Venue Category']\n",
    "    \n",
    "    return(nearby_venues)"
   ]
  },
  {
   "cell_type": "code",
   "execution_count": 106,
   "metadata": {},
   "outputs": [
    {
     "name": "stdout",
     "output_type": "stream",
     "text": [
      "The Beaches\n",
      "Riverdale\n",
      "The Beaches West\n",
      "Studio District\n",
      "Lawrence Park\n",
      "Davisville North\n",
      "North Toronto West\n",
      "Davisville\n",
      "Summerhill East\n",
      "South Hill\n",
      "Rosedale\n",
      "St. James Town\n",
      "Church and Wellesley\n",
      "Harbourfront\n",
      "Garden District\n",
      "St. James Town\n",
      "Berczy Park\n",
      "Central Bay Street\n",
      "Adelaide\n",
      "Harbourfront East\n",
      "Design Exchange\n",
      "Commerce Court\n",
      "Roselawn\n",
      "Forest Hill North\n",
      "Yorkville\n",
      "University of Toronto\n",
      "Kensington Market\n",
      "King and Spadina\n",
      "Stn A PO Boxes 25 The Esplanade\n",
      "Underground city\n",
      "Christie\n",
      "Dufferin\n",
      "Little Portugal\n",
      "Exhibition Place\n",
      "High Park\n",
      "Roncesvalles\n",
      "Runnymede\n",
      "Queen's Park\n",
      "Business Reply Mail Processing Centre 969 Eastern\n"
     ]
    }
   ],
   "source": [
    "toronto_venues = getNearbyVenues(names=toronto['Neighborhood'],\n",
    "                                   latitudes=toronto['Latitude'],\n",
    "                                   longitudes=toronto['Longitude']\n",
    "                                  )"
   ]
  },
  {
   "cell_type": "code",
   "execution_count": 107,
   "metadata": {},
   "outputs": [
    {
     "data": {
      "text/plain": [
       "(1691, 7)"
      ]
     },
     "execution_count": 107,
     "metadata": {},
     "output_type": "execute_result"
    }
   ],
   "source": [
    "toronto_venues.shape"
   ]
  },
  {
   "cell_type": "code",
   "execution_count": 108,
   "metadata": {},
   "outputs": [
    {
     "data": {
      "text/html": [
       "<div>\n",
       "<style scoped>\n",
       "    .dataframe tbody tr th:only-of-type {\n",
       "        vertical-align: middle;\n",
       "    }\n",
       "\n",
       "    .dataframe tbody tr th {\n",
       "        vertical-align: top;\n",
       "    }\n",
       "\n",
       "    .dataframe thead th {\n",
       "        text-align: right;\n",
       "    }\n",
       "</style>\n",
       "<table border=\"1\" class=\"dataframe\">\n",
       "  <thead>\n",
       "    <tr style=\"text-align: right;\">\n",
       "      <th></th>\n",
       "      <th>Neighborhood</th>\n",
       "      <th>Neighborhood Latitude</th>\n",
       "      <th>Neighborhood Longitude</th>\n",
       "      <th>Venue</th>\n",
       "      <th>Venue Latitude</th>\n",
       "      <th>Venue Longitude</th>\n",
       "      <th>Venue Category</th>\n",
       "    </tr>\n",
       "  </thead>\n",
       "  <tbody>\n",
       "    <tr>\n",
       "      <td>0</td>\n",
       "      <td>The Beaches</td>\n",
       "      <td>43.676357</td>\n",
       "      <td>-79.293031</td>\n",
       "      <td>Glen Manor Ravine</td>\n",
       "      <td>43.676821</td>\n",
       "      <td>-79.293942</td>\n",
       "      <td>Trail</td>\n",
       "    </tr>\n",
       "    <tr>\n",
       "      <td>1</td>\n",
       "      <td>The Beaches</td>\n",
       "      <td>43.676357</td>\n",
       "      <td>-79.293031</td>\n",
       "      <td>The Big Carrot Natural Food Market</td>\n",
       "      <td>43.678879</td>\n",
       "      <td>-79.297734</td>\n",
       "      <td>Health Food Store</td>\n",
       "    </tr>\n",
       "    <tr>\n",
       "      <td>2</td>\n",
       "      <td>The Beaches</td>\n",
       "      <td>43.676357</td>\n",
       "      <td>-79.293031</td>\n",
       "      <td>Grover Pub and Grub</td>\n",
       "      <td>43.679181</td>\n",
       "      <td>-79.297215</td>\n",
       "      <td>Pub</td>\n",
       "    </tr>\n",
       "    <tr>\n",
       "      <td>3</td>\n",
       "      <td>The Beaches</td>\n",
       "      <td>43.676357</td>\n",
       "      <td>-79.293031</td>\n",
       "      <td>Glen Stewart Park</td>\n",
       "      <td>43.675278</td>\n",
       "      <td>-79.294647</td>\n",
       "      <td>Park</td>\n",
       "    </tr>\n",
       "    <tr>\n",
       "      <td>4</td>\n",
       "      <td>The Beaches</td>\n",
       "      <td>43.676357</td>\n",
       "      <td>-79.293031</td>\n",
       "      <td>Upper Beaches</td>\n",
       "      <td>43.680563</td>\n",
       "      <td>-79.292869</td>\n",
       "      <td>Neighborhood</td>\n",
       "    </tr>\n",
       "    <tr>\n",
       "      <td>5</td>\n",
       "      <td>Riverdale</td>\n",
       "      <td>43.679557</td>\n",
       "      <td>-79.352188</td>\n",
       "      <td>Pantheon</td>\n",
       "      <td>43.677621</td>\n",
       "      <td>-79.351434</td>\n",
       "      <td>Greek Restaurant</td>\n",
       "    </tr>\n",
       "    <tr>\n",
       "      <td>6</td>\n",
       "      <td>Riverdale</td>\n",
       "      <td>43.679557</td>\n",
       "      <td>-79.352188</td>\n",
       "      <td>MenEssentials</td>\n",
       "      <td>43.677820</td>\n",
       "      <td>-79.351265</td>\n",
       "      <td>Cosmetics Shop</td>\n",
       "    </tr>\n",
       "    <tr>\n",
       "      <td>7</td>\n",
       "      <td>Riverdale</td>\n",
       "      <td>43.679557</td>\n",
       "      <td>-79.352188</td>\n",
       "      <td>Cafe Fiorentina</td>\n",
       "      <td>43.677743</td>\n",
       "      <td>-79.350115</td>\n",
       "      <td>Italian Restaurant</td>\n",
       "    </tr>\n",
       "    <tr>\n",
       "      <td>8</td>\n",
       "      <td>Riverdale</td>\n",
       "      <td>43.679557</td>\n",
       "      <td>-79.352188</td>\n",
       "      <td>Mezes</td>\n",
       "      <td>43.677962</td>\n",
       "      <td>-79.350196</td>\n",
       "      <td>Greek Restaurant</td>\n",
       "    </tr>\n",
       "    <tr>\n",
       "      <td>9</td>\n",
       "      <td>Riverdale</td>\n",
       "      <td>43.679557</td>\n",
       "      <td>-79.352188</td>\n",
       "      <td>Dolce Gelato</td>\n",
       "      <td>43.677773</td>\n",
       "      <td>-79.351187</td>\n",
       "      <td>Ice Cream Shop</td>\n",
       "    </tr>\n",
       "  </tbody>\n",
       "</table>\n",
       "</div>"
      ],
      "text/plain": [
       "  Neighborhood  Neighborhood Latitude  Neighborhood Longitude  \\\n",
       "0  The Beaches              43.676357              -79.293031   \n",
       "1  The Beaches              43.676357              -79.293031   \n",
       "2  The Beaches              43.676357              -79.293031   \n",
       "3  The Beaches              43.676357              -79.293031   \n",
       "4  The Beaches              43.676357              -79.293031   \n",
       "5    Riverdale              43.679557              -79.352188   \n",
       "6    Riverdale              43.679557              -79.352188   \n",
       "7    Riverdale              43.679557              -79.352188   \n",
       "8    Riverdale              43.679557              -79.352188   \n",
       "9    Riverdale              43.679557              -79.352188   \n",
       "\n",
       "                                Venue  Venue Latitude  Venue Longitude  \\\n",
       "0                   Glen Manor Ravine       43.676821       -79.293942   \n",
       "1  The Big Carrot Natural Food Market       43.678879       -79.297734   \n",
       "2                 Grover Pub and Grub       43.679181       -79.297215   \n",
       "3                   Glen Stewart Park       43.675278       -79.294647   \n",
       "4                       Upper Beaches       43.680563       -79.292869   \n",
       "5                            Pantheon       43.677621       -79.351434   \n",
       "6                       MenEssentials       43.677820       -79.351265   \n",
       "7                     Cafe Fiorentina       43.677743       -79.350115   \n",
       "8                               Mezes       43.677962       -79.350196   \n",
       "9                        Dolce Gelato       43.677773       -79.351187   \n",
       "\n",
       "       Venue Category  \n",
       "0               Trail  \n",
       "1   Health Food Store  \n",
       "2                 Pub  \n",
       "3                Park  \n",
       "4        Neighborhood  \n",
       "5    Greek Restaurant  \n",
       "6      Cosmetics Shop  \n",
       "7  Italian Restaurant  \n",
       "8    Greek Restaurant  \n",
       "9      Ice Cream Shop  "
      ]
     },
     "execution_count": 108,
     "metadata": {},
     "output_type": "execute_result"
    }
   ],
   "source": [
    "toronto_venues.head(10)"
   ]
  },
  {
   "cell_type": "code",
   "execution_count": 110,
   "metadata": {},
   "outputs": [
    {
     "data": {
      "text/plain": [
       "St. James Town                                       141\n",
       "Garden District                                      100\n",
       "Commerce Court                                       100\n",
       "Harbourfront East                                    100\n",
       "Underground city                                     100\n",
       "Design Exchange                                      100\n",
       "Adelaide                                             100\n",
       "Stn A PO Boxes 25 The Esplanade                       95\n",
       "Central Bay Street                                    85\n",
       "Kensington Market                                     85\n",
       "Church and Wellesley                                  80\n",
       "Berczy Park                                           56\n",
       "Little Portugal                                       53\n",
       "Harbourfront                                          46\n",
       "Studio District                                       41\n",
       "Riverdale                                             40\n",
       "Queen's Park                                          38\n",
       "Runnymede                                             37\n",
       "University of Toronto                                 34\n",
       "Davisville                                            33\n",
       "High Park                                             23\n",
       "Exhibition Place                                      22\n",
       "Yorkville                                             21\n",
       "North Toronto West                                    20\n",
       "The Beaches West                                      19\n",
       "Business Reply Mail Processing Centre 969 Eastern     18\n",
       "Christie                                              18\n",
       "King and Spadina                                      17\n",
       "Dufferin                                              15\n",
       "South Hill                                            14\n",
       "Roncesvalles                                          14\n",
       "Davisville North                                       7\n",
       "The Beaches                                            5\n",
       "Forest Hill North                                      4\n",
       "Rosedale                                               4\n",
       "Lawrence Park                                          3\n",
       "Summerhill East                                        2\n",
       "Roselawn                                               1\n",
       "Name: Neighborhood, dtype: int64"
      ]
     },
     "execution_count": 110,
     "metadata": {},
     "output_type": "execute_result"
    }
   ],
   "source": [
    "toronto_venues['Neighborhood'].value_counts()"
   ]
  },
  {
   "cell_type": "code",
   "execution_count": 111,
   "metadata": {},
   "outputs": [
    {
     "name": "stdout",
     "output_type": "stream",
     "text": [
      "There are 228 unique categories\n"
     ]
    }
   ],
   "source": [
    "print ('There are {} unique categories'.format(len(toronto_venues['Venue Category'].unique())))"
   ]
  },
  {
   "cell_type": "markdown",
   "metadata": {},
   "source": [
    "Below we compute for each neighborhood the proportion of each venue categories"
   ]
  },
  {
   "cell_type": "code",
   "execution_count": 112,
   "metadata": {},
   "outputs": [
    {
     "name": "stdout",
     "output_type": "stream",
     "text": [
      "(38, 228)\n",
      "----Adelaide----\n",
      "             venue  freq\n",
      "0      Coffee Shop  0.06\n",
      "1  Thai Restaurant  0.04\n",
      "2             Café  0.04\n",
      "3       Steakhouse  0.04\n",
      "4       Restaurant  0.03\n",
      "\n",
      "\n",
      "----Berczy Park----\n",
      "                venue  freq\n",
      "0         Coffee Shop  0.09\n",
      "1          Steakhouse  0.04\n",
      "2                Café  0.04\n",
      "3            Beer Bar  0.04\n",
      "4  Seafood Restaurant  0.04\n",
      "\n",
      "\n",
      "----Business Reply Mail Processing Centre 969 Eastern----\n",
      "                venue  freq\n",
      "0  Light Rail Station  0.11\n",
      "1         Yoga Studio  0.06\n",
      "2       Auto Workshop  0.06\n",
      "3          Comic Shop  0.06\n",
      "4         Pizza Place  0.06\n",
      "\n",
      "\n",
      "----Central Bay Street----\n",
      "                venue  freq\n",
      "0         Coffee Shop  0.16\n",
      "1  Italian Restaurant  0.05\n",
      "2                Café  0.05\n",
      "3      Ice Cream Shop  0.04\n",
      "4        Burger Joint  0.04\n",
      "\n",
      "\n",
      "----Christie----\n",
      "           venue  freq\n",
      "0  Grocery Store  0.22\n",
      "1           Café  0.17\n",
      "2           Park  0.11\n",
      "3          Diner  0.06\n",
      "4    Candy Store  0.06\n",
      "\n",
      "\n",
      "----Church and Wellesley----\n",
      "                 venue  freq\n",
      "0          Coffee Shop  0.08\n",
      "1  Japanese Restaurant  0.06\n",
      "2              Gay Bar  0.05\n",
      "3     Sushi Restaurant  0.05\n",
      "4           Restaurant  0.04\n",
      "\n",
      "\n",
      "----Commerce Court----\n",
      "         venue  freq\n",
      "0  Coffee Shop  0.12\n",
      "1         Café  0.07\n",
      "2        Hotel  0.05\n",
      "3   Restaurant  0.05\n",
      "4          Gym  0.04\n",
      "\n",
      "\n",
      "----Davisville----\n",
      "            venue  freq\n",
      "0    Dessert Shop  0.09\n",
      "1     Pizza Place  0.09\n",
      "2  Sandwich Place  0.09\n",
      "3             Gym  0.06\n",
      "4            Café  0.06\n",
      "\n",
      "\n",
      "----Davisville North----\n",
      "              venue  freq\n",
      "0  Department Store  0.14\n",
      "1               Gym  0.14\n",
      "2              Park  0.14\n",
      "3    Breakfast Spot  0.14\n",
      "4             Hotel  0.14\n",
      "\n",
      "\n",
      "----Design Exchange----\n",
      "                venue  freq\n",
      "0         Coffee Shop  0.11\n",
      "1                Café  0.08\n",
      "2               Hotel  0.06\n",
      "3          Restaurant  0.05\n",
      "4  Italian Restaurant  0.04\n",
      "\n",
      "\n",
      "----Dufferin----\n",
      "                  venue  freq\n",
      "0              Pharmacy  0.13\n",
      "1                Bakery  0.13\n",
      "2  Gym / Fitness Center  0.07\n",
      "3           Music Venue  0.07\n",
      "4                  Park  0.07\n",
      "\n",
      "\n",
      "----Exhibition Place----\n",
      "               venue  freq\n",
      "0               Café  0.14\n",
      "1     Breakfast Spot  0.09\n",
      "2        Coffee Shop  0.09\n",
      "3  Convenience Store  0.05\n",
      "4          Nightclub  0.05\n",
      "\n",
      "\n",
      "----Forest Hill North----\n",
      "              venue  freq\n",
      "0              Park  0.25\n",
      "1     Jewelry Store  0.25\n",
      "2             Trail  0.25\n",
      "3  Sushi Restaurant  0.25\n",
      "4       Yoga Studio  0.00\n",
      "\n",
      "\n",
      "----Garden District----\n",
      "                 venue  freq\n",
      "0          Coffee Shop  0.08\n",
      "1       Clothing Store  0.07\n",
      "2  Japanese Restaurant  0.03\n",
      "3                 Café  0.03\n",
      "4       Cosmetics Shop  0.03\n",
      "\n",
      "\n",
      "----Harbourfront----\n",
      "         venue  freq\n",
      "0  Coffee Shop  0.15\n",
      "1         Park  0.07\n",
      "2         Café  0.07\n",
      "3       Bakery  0.07\n",
      "4          Pub  0.07\n",
      "\n",
      "\n",
      "----Harbourfront East----\n",
      "                venue  freq\n",
      "0         Coffee Shop  0.12\n",
      "1            Aquarium  0.05\n",
      "2               Hotel  0.04\n",
      "3  Italian Restaurant  0.04\n",
      "4                Café  0.04\n",
      "\n",
      "\n",
      "----High Park----\n",
      "                venue  freq\n",
      "0                 Bar  0.09\n",
      "1                Café  0.09\n",
      "2  Mexican Restaurant  0.09\n",
      "3     Thai Restaurant  0.09\n",
      "4              Bakery  0.04\n",
      "\n",
      "\n",
      "----Kensington Market----\n",
      "                 venue  freq\n",
      "0                  Bar  0.07\n",
      "1                 Café  0.06\n",
      "2          Coffee Shop  0.05\n",
      "3   Chinese Restaurant  0.05\n",
      "4  Dumpling Restaurant  0.05\n",
      "\n",
      "\n",
      "----King and Spadina----\n",
      "              venue  freq\n",
      "0   Airport Service  0.18\n",
      "1    Airport Lounge  0.12\n",
      "2  Airport Terminal  0.12\n",
      "3   Harbor / Marina  0.06\n",
      "4               Bar  0.06\n",
      "\n",
      "\n",
      "----Lawrence Park----\n",
      "                             venue  freq\n",
      "0                             Park  0.33\n",
      "1                         Bus Line  0.33\n",
      "2                      Swim School  0.33\n",
      "3  Molecular Gastronomy Restaurant  0.00\n",
      "4                           Lounge  0.00\n",
      "\n",
      "\n",
      "----Little Portugal----\n",
      "              venue  freq\n",
      "0               Bar  0.11\n",
      "1        Restaurant  0.06\n",
      "2       Coffee Shop  0.06\n",
      "3  Asian Restaurant  0.06\n",
      "4       Men's Store  0.04\n",
      "\n",
      "\n",
      "----North Toronto West----\n",
      "            venue  freq\n",
      "0  Clothing Store  0.15\n",
      "1     Coffee Shop  0.10\n",
      "2     Yoga Studio  0.05\n",
      "3      Bagel Shop  0.05\n",
      "4    Dessert Shop  0.05\n",
      "\n",
      "\n",
      "----Queen's Park----\n",
      "         venue  freq\n",
      "0  Coffee Shop  0.26\n",
      "1         Park  0.05\n",
      "2          Gym  0.05\n",
      "3         Café  0.03\n",
      "4     Beer Bar  0.03\n",
      "\n",
      "\n",
      "----Riverdale----\n",
      "                    venue  freq\n",
      "0        Greek Restaurant  0.22\n",
      "1             Coffee Shop  0.08\n",
      "2      Italian Restaurant  0.08\n",
      "3          Ice Cream Shop  0.05\n",
      "4  Furniture / Home Store  0.05\n",
      "\n",
      "\n",
      "----Roncesvalles----\n",
      "                         venue  freq\n",
      "0                    Gift Shop  0.14\n",
      "1                    Bookstore  0.07\n",
      "2                 Dessert Shop  0.07\n",
      "3  Eastern European Restaurant  0.07\n",
      "4                Movie Theater  0.07\n",
      "\n",
      "\n",
      "----Rosedale----\n",
      "                             venue  freq\n",
      "0                             Park  0.50\n",
      "1                       Playground  0.25\n",
      "2                            Trail  0.25\n",
      "3  Molecular Gastronomy Restaurant  0.00\n",
      "4                     Liquor Store  0.00\n",
      "\n",
      "\n",
      "----Roselawn----\n",
      "                 venue  freq\n",
      "0               Garden   1.0\n",
      "1          Yoga Studio   0.0\n",
      "2  Monument / Landmark   0.0\n",
      "3         Liquor Store   0.0\n",
      "4               Lounge   0.0\n",
      "\n",
      "\n",
      "----Runnymede----\n",
      "              venue  freq\n",
      "0              Café  0.08\n",
      "1          Tea Room  0.05\n",
      "2  Sushi Restaurant  0.05\n",
      "3       Pizza Place  0.05\n",
      "4       Coffee Shop  0.05\n",
      "\n",
      "\n",
      "----South Hill----\n",
      "                 venue  freq\n",
      "0          Coffee Shop  0.14\n",
      "1                  Pub  0.14\n",
      "2   Light Rail Station  0.07\n",
      "3  Fried Chicken Joint  0.07\n",
      "4         Liquor Store  0.07\n",
      "\n",
      "\n",
      "----St. James Town----\n",
      "                venue  freq\n",
      "0         Coffee Shop  0.08\n",
      "1                Café  0.06\n",
      "2          Restaurant  0.05\n",
      "3              Bakery  0.04\n",
      "4  Italian Restaurant  0.03\n",
      "\n",
      "\n",
      "----Stn A PO Boxes 25 The Esplanade----\n",
      "                 venue  freq\n",
      "0          Coffee Shop  0.13\n",
      "1                 Café  0.04\n",
      "2           Restaurant  0.03\n",
      "3   Italian Restaurant  0.03\n",
      "4  Japanese Restaurant  0.03\n",
      "\n",
      "\n",
      "----Studio District----\n",
      "                venue  freq\n",
      "0                Café  0.10\n",
      "1         Coffee Shop  0.07\n",
      "2             Brewery  0.05\n",
      "3  Italian Restaurant  0.05\n",
      "4           Gastropub  0.05\n",
      "\n",
      "\n",
      "----Summerhill East----\n",
      "                 venue  freq\n",
      "0                 Park   0.5\n",
      "1           Playground   0.5\n",
      "2  Monument / Landmark   0.0\n",
      "3               Lounge   0.0\n",
      "4   Mac & Cheese Joint   0.0\n",
      "\n",
      "\n",
      "----The Beaches----\n",
      "               venue  freq\n",
      "0               Park   0.2\n",
      "1  Health Food Store   0.2\n",
      "2              Trail   0.2\n",
      "3                Pub   0.2\n",
      "4        Yoga Studio   0.0\n",
      "\n",
      "\n",
      "----The Beaches West----\n",
      "                venue  freq\n",
      "0      Sandwich Place  0.11\n",
      "1  Italian Restaurant  0.05\n",
      "2       Movie Theater  0.05\n",
      "3             Brewery  0.05\n",
      "4       Burrito Place  0.05\n",
      "\n",
      "\n",
      "----Underground city----\n",
      "         venue  freq\n",
      "0  Coffee Shop  0.11\n",
      "1         Café  0.07\n",
      "2   Steakhouse  0.04\n",
      "3   Restaurant  0.04\n",
      "4        Hotel  0.03\n",
      "\n",
      "\n",
      "----University of Toronto----\n",
      "                 venue  freq\n",
      "0                 Café  0.15\n",
      "1            Bookstore  0.06\n",
      "2                  Bar  0.06\n",
      "3               Bakery  0.06\n",
      "4  Japanese Restaurant  0.06\n",
      "\n",
      "\n",
      "----Yorkville----\n",
      "            venue  freq\n",
      "0            Café  0.14\n",
      "1  Sandwich Place  0.14\n",
      "2     Coffee Shop  0.10\n",
      "3    Burger Joint  0.05\n",
      "4       BBQ Joint  0.05\n",
      "\n",
      "\n"
     ]
    }
   ],
   "source": [
    "# one hot encoding\n",
    "Toronto_onehot = pd.get_dummies(toronto_venues[['Venue Category']], prefix=\"\", prefix_sep=\"\")\n",
    "\n",
    "# add neighborhood column back to dataframe\n",
    "Toronto_onehot['Neighborhood'] = toronto_venues['Neighborhood'] \n",
    "\n",
    "# move neighborhood column to the first column\n",
    "fixed_columns = [Toronto_onehot.columns[-1]] + list(Toronto_onehot.columns[:-1])\n",
    "Toronto_onehot = Toronto_onehot[fixed_columns]\n",
    "\n",
    "Toronto_grouped = Toronto_onehot.groupby('Neighborhood').mean().reset_index()\n",
    "print(Toronto_grouped.shape)\n",
    "\n",
    "num_top_venues = 5\n",
    "\n",
    "for hood in Toronto_grouped['Neighborhood']:\n",
    "    print(\"----\"+hood+\"----\")\n",
    "    temp = Toronto_grouped[Toronto_grouped['Neighborhood'] == hood].T.reset_index()\n",
    "    temp.columns = ['venue','freq']\n",
    "    temp = temp.iloc[1:]\n",
    "    temp['freq'] = temp['freq'].astype(float)\n",
    "    temp = temp.round({'freq': 2})\n",
    "    print(temp.sort_values('freq', ascending=False).reset_index(drop=True).head(num_top_venues))\n",
    "    print('\\n')"
   ]
  },
  {
   "cell_type": "markdown",
   "metadata": {},
   "source": [
    "Below we create a data frame neighborhoods_venues_sorted, representing the most common categories of venues for each neighborhood"
   ]
  },
  {
   "cell_type": "code",
   "execution_count": 113,
   "metadata": {},
   "outputs": [
    {
     "data": {
      "text/html": [
       "<div>\n",
       "<style scoped>\n",
       "    .dataframe tbody tr th:only-of-type {\n",
       "        vertical-align: middle;\n",
       "    }\n",
       "\n",
       "    .dataframe tbody tr th {\n",
       "        vertical-align: top;\n",
       "    }\n",
       "\n",
       "    .dataframe thead th {\n",
       "        text-align: right;\n",
       "    }\n",
       "</style>\n",
       "<table border=\"1\" class=\"dataframe\">\n",
       "  <thead>\n",
       "    <tr style=\"text-align: right;\">\n",
       "      <th></th>\n",
       "      <th>Neighborhood</th>\n",
       "      <th>1st Most Common Venue</th>\n",
       "      <th>2nd Most Common Venue</th>\n",
       "      <th>3rd Most Common Venue</th>\n",
       "    </tr>\n",
       "  </thead>\n",
       "  <tbody>\n",
       "    <tr>\n",
       "      <td>0</td>\n",
       "      <td>Adelaide</td>\n",
       "      <td>Coffee Shop</td>\n",
       "      <td>Steakhouse</td>\n",
       "      <td>Thai Restaurant</td>\n",
       "    </tr>\n",
       "    <tr>\n",
       "      <td>1</td>\n",
       "      <td>Berczy Park</td>\n",
       "      <td>Coffee Shop</td>\n",
       "      <td>Steakhouse</td>\n",
       "      <td>Farmers Market</td>\n",
       "    </tr>\n",
       "    <tr>\n",
       "      <td>2</td>\n",
       "      <td>Business Reply Mail Processing Centre 969 Eastern</td>\n",
       "      <td>Light Rail Station</td>\n",
       "      <td>Yoga Studio</td>\n",
       "      <td>Auto Workshop</td>\n",
       "    </tr>\n",
       "    <tr>\n",
       "      <td>3</td>\n",
       "      <td>Central Bay Street</td>\n",
       "      <td>Coffee Shop</td>\n",
       "      <td>Café</td>\n",
       "      <td>Italian Restaurant</td>\n",
       "    </tr>\n",
       "    <tr>\n",
       "      <td>4</td>\n",
       "      <td>Christie</td>\n",
       "      <td>Grocery Store</td>\n",
       "      <td>Café</td>\n",
       "      <td>Park</td>\n",
       "    </tr>\n",
       "  </tbody>\n",
       "</table>\n",
       "</div>"
      ],
      "text/plain": [
       "                                        Neighborhood 1st Most Common Venue  \\\n",
       "0                                           Adelaide           Coffee Shop   \n",
       "1                                        Berczy Park           Coffee Shop   \n",
       "2  Business Reply Mail Processing Centre 969 Eastern    Light Rail Station   \n",
       "3                                 Central Bay Street           Coffee Shop   \n",
       "4                                           Christie         Grocery Store   \n",
       "\n",
       "  2nd Most Common Venue 3rd Most Common Venue  \n",
       "0            Steakhouse       Thai Restaurant  \n",
       "1            Steakhouse        Farmers Market  \n",
       "2           Yoga Studio         Auto Workshop  \n",
       "3                  Café    Italian Restaurant  \n",
       "4                  Café                  Park  "
      ]
     },
     "execution_count": 113,
     "metadata": {},
     "output_type": "execute_result"
    }
   ],
   "source": [
    "def return_most_common_venues(row, num_top_venues):\n",
    "    row_categories = row.iloc[1:]\n",
    "    row_categories_sorted = row_categories.sort_values(ascending=False)\n",
    "    \n",
    "    return row_categories_sorted.index.values[0:num_top_venues]\n",
    "\n",
    "num_top_venues = 3\n",
    "\n",
    "indicators = ['st', 'nd', 'rd']\n",
    "\n",
    "# create columns according to number of top venues\n",
    "columns = ['Neighborhood']\n",
    "for ind in np.arange(num_top_venues):\n",
    "    try:\n",
    "        columns.append('{}{} Most Common Venue'.format(ind+1, indicators[ind]))\n",
    "    except:\n",
    "        columns.append('{}th Most Common Venue'.format(ind+1))\n",
    "\n",
    "# create a new dataframe\n",
    "neighborhoods_venues_sorted = pd.DataFrame(columns=columns)\n",
    "neighborhoods_venues_sorted['Neighborhood'] = Toronto_grouped['Neighborhood']\n",
    "\n",
    "for ind in np.arange(Toronto_grouped.shape[0]):\n",
    "    neighborhoods_venues_sorted.iloc[ind, 1:] = return_most_common_venues(Toronto_grouped.iloc[ind, :], num_top_venues)\n",
    "\n",
    "neighborhoods_venues_sorted.head()"
   ]
  },
  {
   "cell_type": "markdown",
   "metadata": {},
   "source": [
    "Clustering the neighborhoods"
   ]
  },
  {
   "cell_type": "code",
   "execution_count": 115,
   "metadata": {},
   "outputs": [],
   "source": [
    "# set number of clusters\n",
    "kcluster = 3\n",
    "\n",
    "Toronto_grouped_clustering = Toronto_grouped.drop('Neighborhood', 1)"
   ]
  },
  {
   "cell_type": "code",
   "execution_count": 120,
   "metadata": {},
   "outputs": [
    {
     "data": {
      "text/plain": [
       "array([2, 2, 2, 2, 2, 2, 2, 2, 2, 2, 2, 2, 0, 2, 2, 2, 2, 2, 2, 0, 2, 2,\n",
       "       2, 2, 2, 0, 1, 2, 2, 2, 2, 2, 0, 0, 2, 2, 2, 2])"
      ]
     },
     "execution_count": 120,
     "metadata": {},
     "output_type": "execute_result"
    }
   ],
   "source": [
    "# run k-means clustering\n",
    "kmeans = KMeans(n_clusters=kcluster, random_state=0).fit(Toronto_grouped_clustering)\n",
    "# check cluster labels generated for each row in the dataframe\n",
    "kmeans.labels_"
   ]
  },
  {
   "cell_type": "code",
   "execution_count": 121,
   "metadata": {},
   "outputs": [],
   "source": [
    "# add clustering labels\n",
    "neighborhoods_venues_sorted.insert(0, 'Cluster Labels', kmeans.labels_)"
   ]
  },
  {
   "cell_type": "code",
   "execution_count": 127,
   "metadata": {},
   "outputs": [
    {
     "data": {
      "text/plain": [
       "(39, 9)"
      ]
     },
     "execution_count": 127,
     "metadata": {},
     "output_type": "execute_result"
    }
   ],
   "source": [
    "Toronto_merged = toronto\n",
    "\n",
    "# merge toronto_grouped with toronto_data to add latitude/longitude for each neighborhood\n",
    "Toronto_merged = Toronto_merged.join(neighborhoods_venues_sorted.set_index('Neighborhood'), on='Neighborhood')\n",
    "\n",
    "Toronto_merged.shape # check the last columns!"
   ]
  },
  {
   "cell_type": "markdown",
   "metadata": {},
   "source": [
    "We show the labels obtained for each neighborhood on the following map"
   ]
  },
  {
   "cell_type": "code",
   "execution_count": 125,
   "metadata": {},
   "outputs": [
    {
     "data": {
      "text/html": [
       "<div style=\"width:100%;\"><div style=\"position:relative;width:100%;height:0;padding-bottom:60%;\"><iframe src=\"data:text/html;charset=utf-8;base64,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\" style=\"position:absolute;width:100%;height:100%;left:0;top:0;border:none !important;\" allowfullscreen webkitallowfullscreen mozallowfullscreen></iframe></div></div>"
      ],
      "text/plain": [
       "<folium.folium.Map at 0x27f5681e808>"
      ]
     },
     "execution_count": 125,
     "metadata": {},
     "output_type": "execute_result"
    }
   ],
   "source": [
    "map_clusters = folium.Map(location=[latitude, longitude], zoom_start=12)\n",
    "\n",
    "# set color scheme for the clusters\n",
    "x = np.arange(kcluster)\n",
    "ys = [i + x + (i*x)**2 for i in range(kcluster)]\n",
    "colors_array = cm.rainbow(np.linspace(0, 1, len(ys)))\n",
    "rainbow = [colors.rgb2hex(i) for i in colors_array]\n",
    "\n",
    "# add markers to the map\n",
    "markers_colors = []\n",
    "for lat, lon, poi, cluster in zip(Toronto_merged['Latitude'], Toronto_merged['Longitude'], Toronto_merged['Neighborhood'], Toronto_merged['Cluster Labels']):\n",
    "    label = folium.Popup(str(poi) + ' Cluster ' + str(cluster), parse_html=True)\n",
    "    folium.CircleMarker(\n",
    "        [lat, lon],\n",
    "        radius=5,\n",
    "        popup=label,\n",
    "        color=rainbow[cluster-1],\n",
    "        fill=True,\n",
    "        fill_color=rainbow[cluster-1],\n",
    "        fill_opacity=0.7).add_to(map_clusters)\n",
    "       \n",
    "map_clusters"
   ]
  },
  {
   "cell_type": "code",
   "execution_count": null,
   "metadata": {},
   "outputs": [],
   "source": []
  }
 ],
 "metadata": {
  "kernelspec": {
   "display_name": "Python 3",
   "language": "python",
   "name": "python3"
  },
  "language_info": {
   "codemirror_mode": {
    "name": "ipython",
    "version": 3
   },
   "file_extension": ".py",
   "mimetype": "text/x-python",
   "name": "python",
   "nbconvert_exporter": "python",
   "pygments_lexer": "ipython3",
   "version": "3.7.4"
  }
 },
 "nbformat": 4,
 "nbformat_minor": 4
}
