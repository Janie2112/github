{
 "cells": [
  {
   "cell_type": "markdown",
   "metadata": {},
   "source": [
    "# The Battle of the Neighborhoods\n",
    "Week4-01"
   ]
  },
  {
   "cell_type": "markdown",
   "metadata": {},
   "source": [
    "Applied Data Science Capstone by IBM/Coursera"
   ]
  },
  {
   "cell_type": "markdown",
   "metadata": {},
   "source": [
    "## Table of contents\n",
    "* [Introduction](#introduction)\n",
    "* [Data](#data)\n",
    "* [Methodology](#methodology)\n",
    "* [Analysis](#analysis)\n",
    "* [Results and Discussion](#results)\n",
    "* [Conclusion](#conclusion)"
   ]
  },
  {
   "cell_type": "markdown",
   "metadata": {},
   "source": [
    "## 1. Introduction <a name=\"introduction\"></a>"
   ]
  },
  {
   "cell_type": "markdown",
   "metadata": {},
   "source": [
    "### 1.1. Overview "
   ]
  },
  {
   "cell_type": "markdown",
   "metadata": {},
   "source": [
    "Düsseldorf is the capital and second-largest city of the most populous German federal state of North Rhine-Westphalia after Cologne, as well as the seventh-largest city in Germany with a population of 617,280. Mercer's 2012 Quality of Living survey ranked Düsseldorf the sixth most livable city in the world. Düsseldorf is an international business and financial centre, renowned for its fashion and trade fairs and is headquarters to one Fortune Global 500 and two DAX companies. Messe Düsseldorf organises nearly one fifth of premier trade shows.\n",
    "\n",
    "The Rhine Metropolis is one of the most diverse areas in terms of culinary diversity. Düsseldorf, with the third largest Japanese community in Europe, not only provides a wide range of culinary cuisine but also has a solid foundation of Authentic Asian food in the city. Düsseldorf's exceptional culinary cuisine has been recognized and visited by the Worldwide leading travel guide of Lonely Planet. Along with a broad range of diverse cultural cuisine, Düsseldorf is also home to various Michelin starred restaurants that are world renowned"
   ]
  },
  {
   "cell_type": "markdown",
   "metadata": {},
   "source": [
    "### 1.2. Opportunities and challenges "
   ]
  },
  {
   "cell_type": "markdown",
   "metadata": {},
   "source": [
    "\n",
    "Our stakeholder are really into opening a restaurant  in Duesseldorf because of the current and potential opportunities:\n",
    "- this is one of the biggest and the most liveable cities in Germany. \n",
    "- it is also the central of cuisine, and the duesseldorf's locals and suburban, as well as the visitors are keen on the diverse cultural cuisine here. \n",
    "- the locals' income is also high. it is a favourable condition for establishing a business relating to service area as restaurant. \n",
    "\n",
    "Of course, choosing a location for the restaurant is one of the stressful and controversial tasks, since there are a lot of challenges realting to \n",
    "- the number of potential competitors\n",
    "-  the number of of alternatives\n",
    "- the population \n",
    "- the parking lot numbers"
   ]
  },
  {
   "cell_type": "markdown",
   "metadata": {},
   "source": [
    "### 1.3. Objectives"
   ]
  },
  {
   "cell_type": "markdown",
   "metadata": {},
   "source": [
    "This project conduct an analysis in order to find out the optimal place to build up a cuisine restaurant based on the mentioned attributes.  In fact there are many determinants but because of the limitation of time and the  course requirements, thus the project just focuses on the main ones. "
   ]
  },
  {
   "cell_type": "markdown",
   "metadata": {},
   "source": [
    "## 2. Data <a name=\"data\"></a>"
   ]
  },
  {
   "cell_type": "markdown",
   "metadata": {},
   "source": [
    "### 2.1 Data description"
   ]
  },
  {
   "cell_type": "markdown",
   "metadata": {},
   "source": [
    "Based on criteria listed above the following data will be utilized in our analysis:\n",
    "- the number of restaurants within the certain radius of each borough (Foresquare API)\n",
    "- the number of parks within the certain radius of each borough (Foresquare API)\n",
    "- the population density in each borough. \n",
    "\n",
    "\n",
    "- the population and the population density of the borough. https://www.citypopulation.de/de/germany/dusseldorf/admin/\n",
    "Source: citypopulation.de \n",
    "- the square of Duesseldorf's Districts\n",
    "https://www.duesseldorf.de/bv/?L=0\n",
    "Source: Official Website of Dusseldorf city\n",
    "- the coordinates of the borough. \n",
    "https://latitude.to/articles-by-country/de/germany/210179/dusseldorf\n",
    "Source: latitude to "
   ]
  },
  {
   "cell_type": "markdown",
   "metadata": {},
   "source": [
    "### 2.2 Data Preparation"
   ]
  },
  {
   "cell_type": "markdown",
   "metadata": {},
   "source": [
    "Import the necessary Libraries"
   ]
  },
  {
   "cell_type": "code",
   "execution_count": 6,
   "metadata": {},
   "outputs": [
    {
     "name": "stdout",
     "output_type": "stream",
     "text": [
      "Libraries imported.\n"
     ]
    }
   ],
   "source": [
    "import numpy as np # library to handle data in a vectorized manner\n",
    "import pandas as pd # library for data analsysis\n",
    "pd.set_option('display.max_columns', None)\n",
    "pd.set_option('display.max_rows', None)\n",
    "\n",
    "import json # library to handle JSON files\n",
    "\n",
    "#!conda install -c conda-forge geopy --yes # uncomment this line if you haven't completed the Foursquare API lab\n",
    "from geopy.geocoders import Nominatim # convert an address into latitude and longitude values\n",
    "\n",
    "import requests # library to handle requests\n",
    "from pandas.io.json import json_normalize # tranform JSON file into a pandas dataframe\n",
    "\n",
    "# Matplotlib and associated plotting modules\n",
    "import matplotlib.cm as cm\n",
    "import matplotlib.colors as colors\n",
    "\n",
    "# import k-means from clustering stage\n",
    "from sklearn.cluster import KMeans\n",
    "\n",
    "#!conda install -c conda-forge folium=0.5.0 --yes # uncomment this line if you haven't completed the Foursquare API lab\n",
    "import folium # map rendering library\n",
    "\n",
    "print('Libraries imported.')"
   ]
  },
  {
   "cell_type": "markdown",
   "metadata": {},
   "source": [
    "Load the coordinates of the boroughs into a dataframe."
   ]
  },
  {
   "cell_type": "code",
   "execution_count": 8,
   "metadata": {},
   "outputs": [
    {
     "name": "stdout",
     "output_type": "stream",
     "text": [
      "(39, 5)\n"
     ]
    },
    {
     "data": {
      "text/html": [
       "<div>\n",
       "<style scoped>\n",
       "    .dataframe tbody tr th:only-of-type {\n",
       "        vertical-align: middle;\n",
       "    }\n",
       "\n",
       "    .dataframe tbody tr th {\n",
       "        vertical-align: top;\n",
       "    }\n",
       "\n",
       "    .dataframe thead th {\n",
       "        text-align: right;\n",
       "    }\n",
       "</style>\n",
       "<table border=\"1\" class=\"dataframe\">\n",
       "  <thead>\n",
       "    <tr style=\"text-align: right;\">\n",
       "      <th></th>\n",
       "      <th>Borough</th>\n",
       "      <th>Population</th>\n",
       "      <th>Population Density</th>\n",
       "      <th>Latitude</th>\n",
       "      <th>Longitude</th>\n",
       "    </tr>\n",
       "  </thead>\n",
       "  <tbody>\n",
       "    <tr>\n",
       "      <td>0</td>\n",
       "      <td>Altstadt</td>\n",
       "      <td>2404</td>\n",
       "      <td>7603.008850</td>\n",
       "      <td>51.223999</td>\n",
       "      <td>6.770830</td>\n",
       "    </tr>\n",
       "    <tr>\n",
       "      <td>1</td>\n",
       "      <td>Angermund</td>\n",
       "      <td>6626</td>\n",
       "      <td>678.516775</td>\n",
       "      <td>51.324665</td>\n",
       "      <td>6.774664</td>\n",
       "    </tr>\n",
       "    <tr>\n",
       "      <td>2</td>\n",
       "      <td>Bilk</td>\n",
       "      <td>40651</td>\n",
       "      <td>4838.669355</td>\n",
       "      <td>51.201499</td>\n",
       "      <td>6.774497</td>\n",
       "    </tr>\n",
       "    <tr>\n",
       "      <td>3</td>\n",
       "      <td>Carlstadt</td>\n",
       "      <td>2285</td>\n",
       "      <td>7603.008850</td>\n",
       "      <td>51.220332</td>\n",
       "      <td>6.769330</td>\n",
       "    </tr>\n",
       "    <tr>\n",
       "      <td>4</td>\n",
       "      <td>Derendorf</td>\n",
       "      <td>20610</td>\n",
       "      <td>7603.008850</td>\n",
       "      <td>51.239666</td>\n",
       "      <td>6.788830</td>\n",
       "    </tr>\n",
       "  </tbody>\n",
       "</table>\n",
       "</div>"
      ],
      "text/plain": [
       "     Borough  Population   Population Density    Latitude  Longitude\n",
       "0   Altstadt        2404           7603.008850  51.223999   6.770830\n",
       "1  Angermund        6626            678.516775  51.324665   6.774664\n",
       "2       Bilk       40651           4838.669355  51.201499   6.774497\n",
       "3  Carlstadt        2285           7603.008850  51.220332   6.769330\n",
       "4  Derendorf       20610           7603.008850  51.239666   6.788830"
      ]
     },
     "execution_count": 8,
     "metadata": {},
     "output_type": "execute_result"
    }
   ],
   "source": [
    "df = pd.read_csv('Duesseldorf_Population.csv')\n",
    "df = df[['Borough', 'Population', ' Population Density ',\n",
    "       'Latitude', 'Longitude']]\n",
    "print(df.shape)\n",
    "df.head(5)"
   ]
  },
  {
   "cell_type": "code",
   "execution_count": 10,
   "metadata": {},
   "outputs": [
    {
     "data": {
      "text/html": [
       "<div>\n",
       "<style scoped>\n",
       "    .dataframe tbody tr th:only-of-type {\n",
       "        vertical-align: middle;\n",
       "    }\n",
       "\n",
       "    .dataframe tbody tr th {\n",
       "        vertical-align: top;\n",
       "    }\n",
       "\n",
       "    .dataframe thead th {\n",
       "        text-align: right;\n",
       "    }\n",
       "</style>\n",
       "<table border=\"1\" class=\"dataframe\">\n",
       "  <thead>\n",
       "    <tr style=\"text-align: right;\">\n",
       "      <th></th>\n",
       "      <th>Population</th>\n",
       "      <th>Population Density</th>\n",
       "      <th>Latitude</th>\n",
       "      <th>Longitude</th>\n",
       "    </tr>\n",
       "  </thead>\n",
       "  <tbody>\n",
       "    <tr>\n",
       "      <td>count</td>\n",
       "      <td>39.000000</td>\n",
       "      <td>39.000000</td>\n",
       "      <td>39.000000</td>\n",
       "      <td>39.000000</td>\n",
       "    </tr>\n",
       "    <tr>\n",
       "      <td>mean</td>\n",
       "      <td>13138.153846</td>\n",
       "      <td>3860.467043</td>\n",
       "      <td>51.220563</td>\n",
       "      <td>6.804561</td>\n",
       "    </tr>\n",
       "    <tr>\n",
       "      <td>std</td>\n",
       "      <td>10430.690926</td>\n",
       "      <td>2226.325238</td>\n",
       "      <td>0.042230</td>\n",
       "      <td>0.051867</td>\n",
       "    </tr>\n",
       "    <tr>\n",
       "      <td>min</td>\n",
       "      <td>1612.000000</td>\n",
       "      <td>678.516775</td>\n",
       "      <td>51.125999</td>\n",
       "      <td>6.709497</td>\n",
       "    </tr>\n",
       "    <tr>\n",
       "      <td>25%</td>\n",
       "      <td>5049.500000</td>\n",
       "      <td>2560.856519</td>\n",
       "      <td>51.200749</td>\n",
       "      <td>6.770497</td>\n",
       "    </tr>\n",
       "    <tr>\n",
       "      <td>50%</td>\n",
       "      <td>10598.000000</td>\n",
       "      <td>3415.128205</td>\n",
       "      <td>51.221332</td>\n",
       "      <td>6.788830</td>\n",
       "    </tr>\n",
       "    <tr>\n",
       "      <td>75%</td>\n",
       "      <td>19626.500000</td>\n",
       "      <td>4838.669355</td>\n",
       "      <td>51.247166</td>\n",
       "      <td>6.848413</td>\n",
       "    </tr>\n",
       "    <tr>\n",
       "      <td>max</td>\n",
       "      <td>40651.000000</td>\n",
       "      <td>8899.580420</td>\n",
       "      <td>51.324665</td>\n",
       "      <td>6.906496</td>\n",
       "    </tr>\n",
       "  </tbody>\n",
       "</table>\n",
       "</div>"
      ],
      "text/plain": [
       "         Population   Population Density    Latitude  Longitude\n",
       "count     39.000000             39.000000  39.000000  39.000000\n",
       "mean   13138.153846           3860.467043  51.220563   6.804561\n",
       "std    10430.690926           2226.325238   0.042230   0.051867\n",
       "min     1612.000000            678.516775  51.125999   6.709497\n",
       "25%     5049.500000           2560.856519  51.200749   6.770497\n",
       "50%    10598.000000           3415.128205  51.221332   6.788830\n",
       "75%    19626.500000           4838.669355  51.247166   6.848413\n",
       "max    40651.000000           8899.580420  51.324665   6.906496"
      ]
     },
     "execution_count": 10,
     "metadata": {},
     "output_type": "execute_result"
    }
   ],
   "source": [
    "df.describe()"
   ]
  },
  {
   "cell_type": "code",
   "execution_count": null,
   "metadata": {},
   "outputs": [],
   "source": []
  }
 ],
 "metadata": {
  "kernelspec": {
   "display_name": "Python 3",
   "language": "python",
   "name": "python3"
  },
  "language_info": {
   "codemirror_mode": {
    "name": "ipython",
    "version": 3
   },
   "file_extension": ".py",
   "mimetype": "text/x-python",
   "name": "python",
   "nbconvert_exporter": "python",
   "pygments_lexer": "ipython3",
   "version": "3.7.4"
  }
 },
 "nbformat": 4,
 "nbformat_minor": 2
}
