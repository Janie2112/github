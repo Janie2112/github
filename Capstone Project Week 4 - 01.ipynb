{
 "cells": [
  {
   "cell_type": "markdown",
   "metadata": {},
   "source": [
    "# The Battle of the Neighborhoods\n"
   ]
  },
  {
   "cell_type": "markdown",
   "metadata": {},
   "source": [
    "Applied Data Science Capstone by IBM/Coursera"
   ]
  },
  {
   "cell_type": "markdown",
   "metadata": {},
   "source": [
    "## Table of contents\n",
    "* [Introduction](#introduction)\n",
    "* [Data](#data)\n",
    "* [Methodology](#methodology)\n",
    "* [Analysis](#analysis)\n",
    "* [Results and Discussion](#results)\n",
    "* [Conclusion](#conclusion)"
   ]
  },
  {
   "cell_type": "markdown",
   "metadata": {},
   "source": [
    "## 1. Introduction <a name=\"introduction\"></a>"
   ]
  },
  {
   "cell_type": "markdown",
   "metadata": {},
   "source": [
    "### 1.1. Overview "
   ]
  },
  {
   "cell_type": "markdown",
   "metadata": {},
   "source": [
    "Düsseldorf is the capital and second-largest city of the most populous German federal state of North Rhine-Westphalia after Cologne, as well as the seventh-largest city in Germany with a population of 617,280. Mercer's 2012 Quality of Living survey ranked Düsseldorf the sixth most livable city in the world. Düsseldorf is an international business and financial centre, renowned for its fashion and trade fairs and is headquarters to one Fortune Global 500 and two DAX companies. Messe Düsseldorf organises nearly one fifth of premier trade shows.\n",
    "\n",
    "The Rhine Metropolis is one of the most diverse areas in terms of culinary diversity. Düsseldorf, with the third largest Japanese community in Europe, not only provides a wide range of culinary cuisine but also has a solid foundation of Authentic Asian food in the city. Düsseldorf's exceptional culinary cuisine has been recognized and visited by the Worldwide leading travel guide of Lonely Planet. Along with a broad range of diverse cultural cuisine, Düsseldorf is also home to various Michelin starred restaurants that are world renowned"
   ]
  },
  {
   "cell_type": "markdown",
   "metadata": {},
   "source": [
    "### 1.2. Opportunities and challenges "
   ]
  },
  {
   "cell_type": "markdown",
   "metadata": {},
   "source": [
    "\n",
    "Our stakeholder are really into opening a restaurant  in Duesseldorf because of the current and potential opportunities:\n",
    "- this is one of the biggest and the most liveable cities in Germany. \n",
    "- it is also the central of cuisine, and the duesseldorf's locals and suburban, as well as the visitors are keen on the diverse cultural cuisine here. \n",
    "- the locals' income is also high. it is a favourable condition for establishing a business relating to service area as restaurant. \n",
    "\n",
    "Of course, choosing a location for the restaurant is one of the stressful and controversial tasks, since there are a lot of challenges realting to \n",
    "- the number of potential competitors\n",
    "-  the number of of alternatives\n",
    "- the population \n",
    "- the parking lot numbers"
   ]
  },
  {
   "cell_type": "markdown",
   "metadata": {},
   "source": [
    "### 1.3. Objectives"
   ]
  },
  {
   "cell_type": "markdown",
   "metadata": {},
   "source": [
    "This project conduct an analysis in order to find out the optimal place to build up a cuisine restaurant based on the mentioned attributes.  In fact there are many determinants but because of the limitation of time and the  course requirements, thus the project just focuses on the main ones. "
   ]
  },
  {
   "cell_type": "code",
   "execution_count": null,
   "metadata": {},
   "outputs": [],
   "source": []
  }
 ],
 "metadata": {
  "kernelspec": {
   "display_name": "Python 3",
   "language": "python",
   "name": "python3"
  },
  "language_info": {
   "codemirror_mode": {
    "name": "ipython",
    "version": 3
   },
   "file_extension": ".py",
   "mimetype": "text/x-python",
   "name": "python",
   "nbconvert_exporter": "python",
   "pygments_lexer": "ipython3",
   "version": "3.7.4"
  }
 },
 "nbformat": 4,
 "nbformat_minor": 2
}
